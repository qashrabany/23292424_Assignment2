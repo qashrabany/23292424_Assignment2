{
  "cells": [
    {
      "cell_type": "markdown",
      "metadata": {
        "id": "view-in-github",
        "colab_type": "text"
      },
      "source": [
        "<a href=\"https://colab.research.google.com/github/qashrabany/23292424_Assignment2/blob/main/starter_notebook.ipynb\" target=\"_parent\"><img src=\"https://colab.research.google.com/assets/colab-badge.svg\" alt=\"Open In Colab\"/></a>"
      ]
    },
    {
      "cell_type": "markdown",
      "id": "72e78a05",
      "metadata": {
        "id": "72e78a05"
      },
      "source": [
        "# 🌦️ WeatherWise – Starter Notebook\n",
        "\n",
        "Welcome to your **WeatherWise** project notebook! This scaffold is designed to help you build your weather advisor app using Python, visualisations, and AI-enhanced development.\n",
        "\n",
        "---\n",
        "\n",
        "📄 **Full Assignment Specification**  \n",
        "See [`ASSIGNMENT.md`](ASSIGNMENT.md) or check the LMS for full details.\n",
        "\n",
        "📝 **Quick Refresher**  \n",
        "A one-page summary is available in [`resources/assignment-summary.md`](resources/assignment-summary.md).\n",
        "\n",
        "---\n",
        "\n",
        "🧠 **This Notebook Structure is Optional**  \n",
        "You’re encouraged to reorganise, rename sections, or remove scaffold cells if you prefer — as long as your final version meets the requirements.\n",
        "\n",
        "✅ You may delete this note before submission.\n",
        "\n"
      ]
    },
    {
      "cell_type": "markdown",
      "id": "fa8c7f6c",
      "metadata": {
        "id": "fa8c7f6c"
      },
      "source": [
        "## 🧰 Setup and Imports\n",
        "\n",
        "This section imports commonly used packages and installs any additional tools used in the project.\n",
        "\n",
        "- You may not need all of these unless you're using specific features (e.g. visualisations, advanced prompting).\n",
        "- The notebook assumes the following packages are **pre-installed** in the provided environment or installable via pip:\n",
        "  - `requests`, `matplotlib`, `pyinputplus`\n",
        "  - `fetch-my-weather` (for accessing weather data easily)\n",
        "  - `hands-on-ai` (for AI logging, comparisons, or prompting tools)\n",
        "\n",
        "If you're running this notebook in **Google Colab**, uncomment the following lines to install the required packages.\n"
      ]
    },
    {
      "cell_type": "code",
      "execution_count": 1,
      "id": "70c3f3f1",
      "metadata": {
        "id": "70c3f3f1",
        "colab": {
          "base_uri": "https://localhost:8080/"
        },
        "outputId": "4817c374-2cfe-4b92-9e3b-0284e9a6b68e"
      },
      "outputs": [
        {
          "output_type": "stream",
          "name": "stdout",
          "text": [
            "Collecting fetch-my-weather\n",
            "  Downloading fetch_my_weather-0.4.0-py3-none-any.whl.metadata (12 kB)\n",
            "Requirement already satisfied: requests>=2.25.0 in /usr/local/lib/python3.12/dist-packages (from fetch-my-weather) (2.32.4)\n",
            "Requirement already satisfied: pydantic>=1.8.0 in /usr/local/lib/python3.12/dist-packages (from fetch-my-weather) (2.11.10)\n",
            "Requirement already satisfied: annotated-types>=0.6.0 in /usr/local/lib/python3.12/dist-packages (from pydantic>=1.8.0->fetch-my-weather) (0.7.0)\n",
            "Requirement already satisfied: pydantic-core==2.33.2 in /usr/local/lib/python3.12/dist-packages (from pydantic>=1.8.0->fetch-my-weather) (2.33.2)\n",
            "Requirement already satisfied: typing-extensions>=4.12.2 in /usr/local/lib/python3.12/dist-packages (from pydantic>=1.8.0->fetch-my-weather) (4.15.0)\n",
            "Requirement already satisfied: typing-inspection>=0.4.0 in /usr/local/lib/python3.12/dist-packages (from pydantic>=1.8.0->fetch-my-weather) (0.4.2)\n",
            "Requirement already satisfied: charset_normalizer<4,>=2 in /usr/local/lib/python3.12/dist-packages (from requests>=2.25.0->fetch-my-weather) (3.4.3)\n",
            "Requirement already satisfied: idna<4,>=2.5 in /usr/local/lib/python3.12/dist-packages (from requests>=2.25.0->fetch-my-weather) (3.10)\n",
            "Requirement already satisfied: urllib3<3,>=1.21.1 in /usr/local/lib/python3.12/dist-packages (from requests>=2.25.0->fetch-my-weather) (2.5.0)\n",
            "Requirement already satisfied: certifi>=2017.4.17 in /usr/local/lib/python3.12/dist-packages (from requests>=2.25.0->fetch-my-weather) (2025.10.5)\n",
            "Downloading fetch_my_weather-0.4.0-py3-none-any.whl (17 kB)\n",
            "Installing collected packages: fetch-my-weather\n",
            "Successfully installed fetch-my-weather-0.4.0\n",
            "Collecting hands-on-ai\n",
            "  Downloading hands_on_ai-0.2.1-py3-none-any.whl.metadata (9.2 kB)\n",
            "Requirement already satisfied: requests in /usr/local/lib/python3.12/dist-packages (from hands-on-ai) (2.32.4)\n",
            "Requirement already satisfied: typer in /usr/local/lib/python3.12/dist-packages (from hands-on-ai) (0.19.2)\n",
            "Collecting python-fasthtml (from hands-on-ai)\n",
            "  Downloading python_fasthtml-0.12.29-py3-none-any.whl.metadata (9.3 kB)\n",
            "Collecting python-docx (from hands-on-ai)\n",
            "  Downloading python_docx-1.2.0-py3-none-any.whl.metadata (2.0 kB)\n",
            "Collecting pymupdf (from hands-on-ai)\n",
            "  Downloading pymupdf-1.26.5-cp39-abi3-manylinux_2_28_x86_64.whl.metadata (3.4 kB)\n",
            "Requirement already satisfied: scikit-learn in /usr/local/lib/python3.12/dist-packages (from hands-on-ai) (1.6.1)\n",
            "Requirement already satisfied: numpy in /usr/local/lib/python3.12/dist-packages (from hands-on-ai) (2.0.2)\n",
            "Collecting instructor>=1.11.0 (from hands-on-ai)\n",
            "  Downloading instructor-1.11.3-py3-none-any.whl.metadata (11 kB)\n",
            "Requirement already satisfied: pydantic>=2.0 in /usr/local/lib/python3.12/dist-packages (from hands-on-ai) (2.11.10)\n",
            "Requirement already satisfied: aiohttp<4.0.0,>=3.9.1 in /usr/local/lib/python3.12/dist-packages (from instructor>=1.11.0->hands-on-ai) (3.13.0)\n",
            "Collecting diskcache>=5.6.3 (from instructor>=1.11.0->hands-on-ai)\n",
            "  Downloading diskcache-5.6.3-py3-none-any.whl.metadata (20 kB)\n",
            "Requirement already satisfied: docstring-parser<1.0,>=0.16 in /usr/local/lib/python3.12/dist-packages (from instructor>=1.11.0->hands-on-ai) (0.17.0)\n",
            "Requirement already satisfied: jinja2<4.0.0,>=3.1.4 in /usr/local/lib/python3.12/dist-packages (from instructor>=1.11.0->hands-on-ai) (3.1.6)\n",
            "Collecting jiter<0.11,>=0.6.1 (from instructor>=1.11.0->hands-on-ai)\n",
            "  Downloading jiter-0.10.0-cp312-cp312-manylinux_2_17_x86_64.manylinux2014_x86_64.whl.metadata (5.2 kB)\n",
            "Requirement already satisfied: openai<2.0.0,>=1.70.0 in /usr/local/lib/python3.12/dist-packages (from instructor>=1.11.0->hands-on-ai) (1.109.1)\n",
            "Requirement already satisfied: pydantic-core<3.0.0,>=2.18.0 in /usr/local/lib/python3.12/dist-packages (from instructor>=1.11.0->hands-on-ai) (2.33.2)\n",
            "Requirement already satisfied: rich<15.0.0,>=13.7.0 in /usr/local/lib/python3.12/dist-packages (from instructor>=1.11.0->hands-on-ai) (13.9.4)\n",
            "Requirement already satisfied: tenacity<10.0.0,>=8.2.3 in /usr/local/lib/python3.12/dist-packages (from instructor>=1.11.0->hands-on-ai) (8.5.0)\n",
            "Requirement already satisfied: annotated-types>=0.6.0 in /usr/local/lib/python3.12/dist-packages (from pydantic>=2.0->hands-on-ai) (0.7.0)\n",
            "Requirement already satisfied: typing-extensions>=4.12.2 in /usr/local/lib/python3.12/dist-packages (from pydantic>=2.0->hands-on-ai) (4.15.0)\n",
            "Requirement already satisfied: typing-inspection>=0.4.0 in /usr/local/lib/python3.12/dist-packages (from pydantic>=2.0->hands-on-ai) (0.4.2)\n",
            "Requirement already satisfied: charset_normalizer<4,>=2 in /usr/local/lib/python3.12/dist-packages (from requests->hands-on-ai) (3.4.3)\n",
            "Requirement already satisfied: idna<4,>=2.5 in /usr/local/lib/python3.12/dist-packages (from requests->hands-on-ai) (3.10)\n",
            "Requirement already satisfied: urllib3<3,>=1.21.1 in /usr/local/lib/python3.12/dist-packages (from requests->hands-on-ai) (2.5.0)\n",
            "Requirement already satisfied: certifi>=2017.4.17 in /usr/local/lib/python3.12/dist-packages (from requests->hands-on-ai) (2025.10.5)\n",
            "Requirement already satisfied: click>=8.0.0 in /usr/local/lib/python3.12/dist-packages (from typer->hands-on-ai) (8.3.0)\n",
            "Requirement already satisfied: shellingham>=1.3.0 in /usr/local/lib/python3.12/dist-packages (from typer->hands-on-ai) (1.5.4)\n",
            "Requirement already satisfied: lxml>=3.1.0 in /usr/local/lib/python3.12/dist-packages (from python-docx->hands-on-ai) (5.4.0)\n",
            "Requirement already satisfied: fastcore>=1.8.1 in /usr/local/lib/python3.12/dist-packages (from python-fasthtml->hands-on-ai) (1.8.12)\n",
            "Requirement already satisfied: python-dateutil in /usr/local/lib/python3.12/dist-packages (from python-fasthtml->hands-on-ai) (2.9.0.post0)\n",
            "Requirement already satisfied: starlette>0.33 in /usr/local/lib/python3.12/dist-packages (from python-fasthtml->hands-on-ai) (0.48.0)\n",
            "Requirement already satisfied: oauthlib in /usr/local/lib/python3.12/dist-packages (from python-fasthtml->hands-on-ai) (3.3.1)\n",
            "Requirement already satisfied: itsdangerous in /usr/local/lib/python3.12/dist-packages (from python-fasthtml->hands-on-ai) (2.2.0)\n",
            "Requirement already satisfied: uvicorn>=0.30 in /usr/local/lib/python3.12/dist-packages (from uvicorn[standard]>=0.30->python-fasthtml->hands-on-ai) (0.37.0)\n",
            "Requirement already satisfied: httpx in /usr/local/lib/python3.12/dist-packages (from python-fasthtml->hands-on-ai) (0.28.1)\n",
            "Collecting fastlite>=0.1.1 (from python-fasthtml->hands-on-ai)\n",
            "  Downloading fastlite-0.2.1-py3-none-any.whl.metadata (12 kB)\n",
            "Requirement already satisfied: python-multipart in /usr/local/lib/python3.12/dist-packages (from python-fasthtml->hands-on-ai) (0.0.20)\n",
            "Requirement already satisfied: beautifulsoup4 in /usr/local/lib/python3.12/dist-packages (from python-fasthtml->hands-on-ai) (4.13.5)\n",
            "Requirement already satisfied: scipy>=1.6.0 in /usr/local/lib/python3.12/dist-packages (from scikit-learn->hands-on-ai) (1.16.2)\n",
            "Requirement already satisfied: joblib>=1.2.0 in /usr/local/lib/python3.12/dist-packages (from scikit-learn->hands-on-ai) (1.5.2)\n",
            "Requirement already satisfied: threadpoolctl>=3.1.0 in /usr/local/lib/python3.12/dist-packages (from scikit-learn->hands-on-ai) (3.6.0)\n",
            "Requirement already satisfied: aiohappyeyeballs>=2.5.0 in /usr/local/lib/python3.12/dist-packages (from aiohttp<4.0.0,>=3.9.1->instructor>=1.11.0->hands-on-ai) (2.6.1)\n",
            "Requirement already satisfied: aiosignal>=1.4.0 in /usr/local/lib/python3.12/dist-packages (from aiohttp<4.0.0,>=3.9.1->instructor>=1.11.0->hands-on-ai) (1.4.0)\n",
            "Requirement already satisfied: attrs>=17.3.0 in /usr/local/lib/python3.12/dist-packages (from aiohttp<4.0.0,>=3.9.1->instructor>=1.11.0->hands-on-ai) (25.4.0)\n",
            "Requirement already satisfied: frozenlist>=1.1.1 in /usr/local/lib/python3.12/dist-packages (from aiohttp<4.0.0,>=3.9.1->instructor>=1.11.0->hands-on-ai) (1.8.0)\n",
            "Requirement already satisfied: multidict<7.0,>=4.5 in /usr/local/lib/python3.12/dist-packages (from aiohttp<4.0.0,>=3.9.1->instructor>=1.11.0->hands-on-ai) (6.7.0)\n",
            "Requirement already satisfied: propcache>=0.2.0 in /usr/local/lib/python3.12/dist-packages (from aiohttp<4.0.0,>=3.9.1->instructor>=1.11.0->hands-on-ai) (0.3.2)\n",
            "Requirement already satisfied: yarl<2.0,>=1.17.0 in /usr/local/lib/python3.12/dist-packages (from aiohttp<4.0.0,>=3.9.1->instructor>=1.11.0->hands-on-ai) (1.22.0)\n",
            "Requirement already satisfied: packaging in /usr/local/lib/python3.12/dist-packages (from fastcore>=1.8.1->python-fasthtml->hands-on-ai) (25.0)\n",
            "Collecting apswutils>=0.1.0 (from fastlite>=0.1.1->python-fasthtml->hands-on-ai)\n",
            "  Downloading apswutils-0.1.0-py3-none-any.whl.metadata (7.4 kB)\n",
            "Requirement already satisfied: MarkupSafe>=2.0 in /usr/local/lib/python3.12/dist-packages (from jinja2<4.0.0,>=3.1.4->instructor>=1.11.0->hands-on-ai) (3.0.3)\n",
            "Requirement already satisfied: anyio<5,>=3.5.0 in /usr/local/lib/python3.12/dist-packages (from openai<2.0.0,>=1.70.0->instructor>=1.11.0->hands-on-ai) (4.11.0)\n",
            "Requirement already satisfied: distro<2,>=1.7.0 in /usr/local/lib/python3.12/dist-packages (from openai<2.0.0,>=1.70.0->instructor>=1.11.0->hands-on-ai) (1.9.0)\n",
            "Requirement already satisfied: sniffio in /usr/local/lib/python3.12/dist-packages (from openai<2.0.0,>=1.70.0->instructor>=1.11.0->hands-on-ai) (1.3.1)\n",
            "Requirement already satisfied: tqdm>4 in /usr/local/lib/python3.12/dist-packages (from openai<2.0.0,>=1.70.0->instructor>=1.11.0->hands-on-ai) (4.67.1)\n",
            "Requirement already satisfied: httpcore==1.* in /usr/local/lib/python3.12/dist-packages (from httpx->python-fasthtml->hands-on-ai) (1.0.9)\n",
            "Requirement already satisfied: h11>=0.16 in /usr/local/lib/python3.12/dist-packages (from httpcore==1.*->httpx->python-fasthtml->hands-on-ai) (0.16.0)\n",
            "Requirement already satisfied: markdown-it-py>=2.2.0 in /usr/local/lib/python3.12/dist-packages (from rich<15.0.0,>=13.7.0->instructor>=1.11.0->hands-on-ai) (4.0.0)\n",
            "Requirement already satisfied: pygments<3.0.0,>=2.13.0 in /usr/local/lib/python3.12/dist-packages (from rich<15.0.0,>=13.7.0->instructor>=1.11.0->hands-on-ai) (2.19.2)\n",
            "Collecting httptools>=0.6.3 (from uvicorn[standard]>=0.30->python-fasthtml->hands-on-ai)\n",
            "  Downloading httptools-0.7.1-cp312-cp312-manylinux1_x86_64.manylinux_2_28_x86_64.manylinux_2_5_x86_64.whl.metadata (3.5 kB)\n",
            "Requirement already satisfied: python-dotenv>=0.13 in /usr/local/lib/python3.12/dist-packages (from uvicorn[standard]>=0.30->python-fasthtml->hands-on-ai) (1.1.1)\n",
            "Requirement already satisfied: pyyaml>=5.1 in /usr/local/lib/python3.12/dist-packages (from uvicorn[standard]>=0.30->python-fasthtml->hands-on-ai) (6.0.3)\n",
            "Collecting uvloop>=0.15.1 (from uvicorn[standard]>=0.30->python-fasthtml->hands-on-ai)\n",
            "  Downloading uvloop-0.21.0-cp312-cp312-manylinux_2_17_x86_64.manylinux2014_x86_64.whl.metadata (4.9 kB)\n",
            "Collecting watchfiles>=0.13 (from uvicorn[standard]>=0.30->python-fasthtml->hands-on-ai)\n",
            "  Downloading watchfiles-1.1.1-cp312-cp312-manylinux_2_17_x86_64.manylinux2014_x86_64.whl.metadata (4.9 kB)\n",
            "Requirement already satisfied: websockets>=10.4 in /usr/local/lib/python3.12/dist-packages (from uvicorn[standard]>=0.30->python-fasthtml->hands-on-ai) (15.0.1)\n",
            "Requirement already satisfied: soupsieve>1.2 in /usr/local/lib/python3.12/dist-packages (from beautifulsoup4->python-fasthtml->hands-on-ai) (2.8)\n",
            "Requirement already satisfied: six>=1.5 in /usr/local/lib/python3.12/dist-packages (from python-dateutil->python-fasthtml->hands-on-ai) (1.17.0)\n",
            "Collecting apsw (from apswutils>=0.1.0->fastlite>=0.1.1->python-fasthtml->hands-on-ai)\n",
            "  Downloading apsw-3.50.4.0-cp312-cp312-manylinux_2_28_x86_64.whl.metadata (3.7 kB)\n",
            "Requirement already satisfied: mdurl~=0.1 in /usr/local/lib/python3.12/dist-packages (from markdown-it-py>=2.2.0->rich<15.0.0,>=13.7.0->instructor>=1.11.0->hands-on-ai) (0.1.2)\n",
            "Downloading hands_on_ai-0.2.1-py3-none-any.whl (143 kB)\n",
            "\u001b[2K   \u001b[90m━━━━━━━━━━━━━━━━━━━━━━━━━━━━━━━━━━━━━━━━\u001b[0m \u001b[32m143.7/143.7 kB\u001b[0m \u001b[31m9.9 MB/s\u001b[0m eta \u001b[36m0:00:00\u001b[0m\n",
            "\u001b[?25hDownloading instructor-1.11.3-py3-none-any.whl (155 kB)\n",
            "\u001b[2K   \u001b[90m━━━━━━━━━━━━━━━━━━━━━━━━━━━━━━━━━━━━━━━━\u001b[0m \u001b[32m155.5/155.5 kB\u001b[0m \u001b[31m8.0 MB/s\u001b[0m eta \u001b[36m0:00:00\u001b[0m\n",
            "\u001b[?25hDownloading pymupdf-1.26.5-cp39-abi3-manylinux_2_28_x86_64.whl (24.1 MB)\n",
            "\u001b[2K   \u001b[90m━━━━━━━━━━━━━━━━━━━━━━━━━━━━━━━━━━━━━━━━\u001b[0m \u001b[32m24.1/24.1 MB\u001b[0m \u001b[31m66.9 MB/s\u001b[0m eta \u001b[36m0:00:00\u001b[0m\n",
            "\u001b[?25hDownloading python_docx-1.2.0-py3-none-any.whl (252 kB)\n",
            "\u001b[2K   \u001b[90m━━━━━━━━━━━━━━━━━━━━━━━━━━━━━━━━━━━━━━━━\u001b[0m \u001b[32m253.0/253.0 kB\u001b[0m \u001b[31m20.2 MB/s\u001b[0m eta \u001b[36m0:00:00\u001b[0m\n",
            "\u001b[?25hDownloading python_fasthtml-0.12.29-py3-none-any.whl (71 kB)\n",
            "\u001b[2K   \u001b[90m━━━━━━━━━━━━━━━━━━━━━━━━━━━━━━━━━━━━━━━━\u001b[0m \u001b[32m71.0/71.0 kB\u001b[0m \u001b[31m6.1 MB/s\u001b[0m eta \u001b[36m0:00:00\u001b[0m\n",
            "\u001b[?25hDownloading diskcache-5.6.3-py3-none-any.whl (45 kB)\n",
            "\u001b[2K   \u001b[90m━━━━━━━━━━━━━━━━━━━━━━━━━━━━━━━━━━━━━━━━\u001b[0m \u001b[32m45.5/45.5 kB\u001b[0m \u001b[31m3.9 MB/s\u001b[0m eta \u001b[36m0:00:00\u001b[0m\n",
            "\u001b[?25hDownloading fastlite-0.2.1-py3-none-any.whl (17 kB)\n",
            "Downloading jiter-0.10.0-cp312-cp312-manylinux_2_17_x86_64.manylinux2014_x86_64.whl (352 kB)\n",
            "\u001b[2K   \u001b[90m━━━━━━━━━━━━━━━━━━━━━━━━━━━━━━━━━━━━━━━━\u001b[0m \u001b[32m352.0/352.0 kB\u001b[0m \u001b[31m26.3 MB/s\u001b[0m eta \u001b[36m0:00:00\u001b[0m\n",
            "\u001b[?25hDownloading apswutils-0.1.0-py3-none-any.whl (80 kB)\n",
            "\u001b[2K   \u001b[90m━━━━━━━━━━━━━━━━━━━━━━━━━━━━━━━━━━━━━━━━\u001b[0m \u001b[32m80.5/80.5 kB\u001b[0m \u001b[31m6.4 MB/s\u001b[0m eta \u001b[36m0:00:00\u001b[0m\n",
            "\u001b[?25hDownloading httptools-0.7.1-cp312-cp312-manylinux1_x86_64.manylinux_2_28_x86_64.manylinux_2_5_x86_64.whl (517 kB)\n",
            "\u001b[2K   \u001b[90m━━━━━━━━━━━━━━━━━━━━━━━━━━━━━━━━━━━━━━━━\u001b[0m \u001b[32m517.7/517.7 kB\u001b[0m \u001b[31m35.7 MB/s\u001b[0m eta \u001b[36m0:00:00\u001b[0m\n",
            "\u001b[?25hDownloading uvloop-0.21.0-cp312-cp312-manylinux_2_17_x86_64.manylinux2014_x86_64.whl (4.7 MB)\n",
            "\u001b[2K   \u001b[90m━━━━━━━━━━━━━━━━━━━━━━━━━━━━━━━━━━━━━━━━\u001b[0m \u001b[32m4.7/4.7 MB\u001b[0m \u001b[31m78.5 MB/s\u001b[0m eta \u001b[36m0:00:00\u001b[0m\n",
            "\u001b[?25hDownloading watchfiles-1.1.1-cp312-cp312-manylinux_2_17_x86_64.manylinux2014_x86_64.whl (456 kB)\n",
            "\u001b[2K   \u001b[90m━━━━━━━━━━━━━━━━━━━━━━━━━━━━━━━━━━━━━━━━\u001b[0m \u001b[32m456.8/456.8 kB\u001b[0m \u001b[31m33.4 MB/s\u001b[0m eta \u001b[36m0:00:00\u001b[0m\n",
            "\u001b[?25hDownloading apsw-3.50.4.0-cp312-cp312-manylinux_2_28_x86_64.whl (7.1 MB)\n",
            "\u001b[2K   \u001b[90m━━━━━━━━━━━━━━━━━━━━━━━━━━━━━━━━━━━━━━━━\u001b[0m \u001b[32m7.1/7.1 MB\u001b[0m \u001b[31m82.1 MB/s\u001b[0m eta \u001b[36m0:00:00\u001b[0m\n",
            "\u001b[?25hInstalling collected packages: uvloop, python-docx, pymupdf, jiter, httptools, diskcache, apsw, watchfiles, apswutils, fastlite, python-fasthtml, instructor, hands-on-ai\n",
            "  Attempting uninstall: jiter\n",
            "    Found existing installation: jiter 0.11.0\n",
            "    Uninstalling jiter-0.11.0:\n",
            "      Successfully uninstalled jiter-0.11.0\n",
            "Successfully installed apsw-3.50.4.0 apswutils-0.1.0 diskcache-5.6.3 fastlite-0.2.1 hands-on-ai-0.2.1 httptools-0.7.1 instructor-1.11.3 jiter-0.10.0 pymupdf-1.26.5 python-docx-1.2.0 python-fasthtml-0.12.29 uvloop-0.21.0 watchfiles-1.1.1\n"
          ]
        }
      ],
      "source": [
        "# 🧪 Optional packages — uncomment if needed in Colab or JupyterHub\n",
        "!pip install fetch-my-weather\n",
        "!pip install hands-on-ai\n"
      ]
    },
    {
      "cell_type": "code",
      "source": [
        "import os\n",
        "\n",
        "os.environ['HANDS_ON_AI_SERVER'] = 'http://ollama.serveur.au'\n",
        "os.environ['HANDS_ON_AI_MODEL'] = 'granite3.2'\n",
        "os.environ['HANDS_ON_AI_API_KEY'] = input('Enter your API key: ')"
      ],
      "metadata": {
        "id": "B2JKlJfrGgIb",
        "colab": {
          "base_uri": "https://localhost:8080/"
        },
        "outputId": "1a3e98d0-dd34-4626-b5bf-26d6eef6bab4"
      },
      "id": "B2JKlJfrGgIb",
      "execution_count": 2,
      "outputs": [
        {
          "name": "stdout",
          "output_type": "stream",
          "text": [
            "Enter your API key: 9ba3746ce01443038dfe6f3f0f297521.R73QV3hVZ-nlPjIiDniP9H9C\n"
          ]
        }
      ]
    },
    {
      "cell_type": "markdown",
      "id": "59ae7543",
      "metadata": {
        "id": "59ae7543"
      },
      "source": [
        "## 📦 Setup and Configuration\n",
        "Import required packages and setup environment."
      ]
    },
    {
      "cell_type": "code",
      "execution_count": 4,
      "id": "f1dd051e",
      "metadata": {
        "id": "f1dd051e",
        "colab": {
          "base_uri": "https://localhost:8080/"
        },
        "outputId": "bce959c9-49de-4e16-9a73-9730602df141"
      },
      "outputs": [
        {
          "output_type": "stream",
          "name": "stdout",
          "text": [
            "Collecting pyinputplus\n",
            "  Downloading PyInputPlus-0.2.12.tar.gz (20 kB)\n",
            "  Installing build dependencies ... \u001b[?25l\u001b[?25hdone\n",
            "  Getting requirements to build wheel ... \u001b[?25l\u001b[?25hdone\n",
            "  Preparing metadata (pyproject.toml) ... \u001b[?25l\u001b[?25hdone\n",
            "Collecting pysimplevalidate>=0.2.7 (from pyinputplus)\n",
            "  Downloading PySimpleValidate-0.2.12.tar.gz (22 kB)\n",
            "  Installing build dependencies ... \u001b[?25l\u001b[?25hdone\n",
            "  Getting requirements to build wheel ... \u001b[?25l\u001b[?25hdone\n",
            "  Preparing metadata (pyproject.toml) ... \u001b[?25l\u001b[?25hdone\n",
            "Collecting stdiomask>=0.0.3 (from pyinputplus)\n",
            "  Downloading stdiomask-0.0.6.tar.gz (3.6 kB)\n",
            "  Installing build dependencies ... \u001b[?25l\u001b[?25hdone\n",
            "  Getting requirements to build wheel ... \u001b[?25l\u001b[?25hdone\n",
            "  Preparing metadata (pyproject.toml) ... \u001b[?25l\u001b[?25hdone\n",
            "Building wheels for collected packages: pyinputplus, pysimplevalidate, stdiomask\n",
            "  Building wheel for pyinputplus (pyproject.toml) ... \u001b[?25l\u001b[?25hdone\n",
            "  Created wheel for pyinputplus: filename=pyinputplus-0.2.12-py3-none-any.whl size=11348 sha256=d3dfe94a1cee8e5d64aa06d3d8fa0e8e664704b8c328e5d230ca1c7bd54f8556\n",
            "  Stored in directory: /root/.cache/pip/wheels/85/81/c1/325c8199c5c4de8a0b9af900ff9cd8bd69853e3d9419493512\n",
            "  Building wheel for pysimplevalidate (pyproject.toml) ... \u001b[?25l\u001b[?25hdone\n",
            "  Created wheel for pysimplevalidate: filename=pysimplevalidate-0.2.12-py3-none-any.whl size=16225 sha256=caf3d61d57c1c36f373f393fde1cb04a85b2ec77c0eadd1c89f9a782ddda95e1\n",
            "  Stored in directory: /root/.cache/pip/wheels/09/de/18/4dd2be0dbdf31870c6f0abde43b0de197b1c095655ad7da5c2\n",
            "  Building wheel for stdiomask (pyproject.toml) ... \u001b[?25l\u001b[?25hdone\n",
            "  Created wheel for stdiomask: filename=stdiomask-0.0.6-py3-none-any.whl size=3358 sha256=b4430837f1f238307262f8c3af30b53a69b2b7c0d66d5dcef6698d518e9e5662\n",
            "  Stored in directory: /root/.cache/pip/wheels/05/c7/e6/c66ff8c008b4d73f2db458feb4922075e7755853fe496e5135\n",
            "Successfully built pyinputplus pysimplevalidate stdiomask\n",
            "Installing collected packages: stdiomask, pysimplevalidate, pyinputplus\n",
            "Successfully installed pyinputplus-0.2.12 pysimplevalidate-0.2.12 stdiomask-0.0.6\n"
          ]
        }
      ],
      "source": [
        "!pip install pyinputplus\n",
        "import requests\n",
        "import matplotlib.pyplot as plt\n",
        "import pyinputplus as pyip\n",
        "# ✅ Import after installing (if needed)\n",
        "from fetch_my_weather import get_weather\n",
        "from hands_on_ai.chat import get_response\n",
        "\n",
        "# Add any other setup code here"
      ]
    },
    {
      "cell_type": "markdown",
      "id": "f736ade3",
      "metadata": {
        "id": "f736ade3"
      },
      "source": [
        "## 🌤️ Weather Data Functions"
      ]
    },
    {
      "cell_type": "code",
      "execution_count": 5,
      "id": "7a2c7cd0",
      "metadata": {
        "id": "7a2c7cd0"
      },
      "outputs": [],
      "source": [
        "import requests\n",
        "\n",
        "def get_weather_data(location, forecast_days=5):\n",
        "    \"\"\"\n",
        "    Retrieve weather data for a specified location using wttr.in.\n",
        "\n",
        "    Args:\n",
        "        location (str): City or location name (e.g. \"London\", \"Paris\", \"Perth\")\n",
        "        forecast_days (int): Number of days to forecast (1–5)\n",
        "\n",
        "    Returns:\n",
        "        dict: Weather data including current conditions and forecast, or None if error.\n",
        "    \"\"\"\n",
        "    # constrain forecast_days between 1 and 5\n",
        "    if forecast_days < 1:\n",
        "        forecast_days = 1\n",
        "    elif forecast_days > 5:\n",
        "        forecast_days = 5\n",
        "    url = f\"https://wttr.in/{location}?format=j1\"\n",
        "\n",
        "    try:\n",
        "        response = requests.get(url, timeout=10)\n",
        "        response.raise_for_status()\n",
        "    except requests.RequestException as e:\n",
        "        print(f\"Error fetching weather data: {e}\")\n",
        "        return None\n",
        "\n",
        "    data = response.json()\n",
        "    current = data.get(\"current_condition\", [])\n",
        "    if current:\n",
        "        current = current[0]\n",
        "    else:\n",
        "        current = {}\n",
        "\n",
        "    # Extract forecast days\n",
        "    forecast = []\n",
        "    weather_list = data.get(\"weather\", [])\n",
        "    for day in weather_list[:forecast_days]:\n",
        "        # You can extract whichever fields you prefer; here's an example subset:\n",
        "        day_info = {\n",
        "            \"date\": day.get(\"date\"),\n",
        "            \"maxtempC\": day.get(\"maxtempC\"),\n",
        "            \"mintempC\": day.get(\"mintempC\"),\n",
        "            \"avgtempC\": day.get(\"avgtempC\"),\n",
        "            \"sunrise\": None,\n",
        "            \"sunset\": None,\n",
        "            \"hourly\": day.get(\"hourly\", [])\n",
        "        }\n",
        "        # astronomy info is a list; usually one element\n",
        "        astro = day.get(\"astronomy\", [])\n",
        "        if astro:\n",
        "            astro0 = astro[0]\n",
        "            day_info[\"sunrise\"] = astro0.get(\"sunrise\")\n",
        "            day_info[\"sunset\"] = astro0.get(\"sunset\")\n",
        "\n",
        "        forecast.append(day_info)\n",
        "\n",
        "    result = {\n",
        "        \"location\": location,\n",
        "        \"current\": {\n",
        "            \"temp_C\": current.get(\"temp_C\"),\n",
        "            \"weatherDesc\": current.get(\"weatherDesc\", [{}])[0].get(\"value\"),\n",
        "            \"humidity\": current.get(\"humidity\"),\n",
        "            \"FeelsLikeC\": current.get(\"FeelsLikeC\"),\n",
        "            \"windspeedKmph\": current.get(\"windspeedKmph\"),\n",
        "            \"precipMM\": current.get(\"precipMM\"),\n",
        "            # you can add more as you wish\n",
        "        },\n",
        "        \"forecast\": forecast\n",
        "    }\n",
        "\n",
        "    return result\n",
        "\n",
        "\n"
      ]
    },
    {
      "cell_type": "markdown",
      "id": "8a744fdc",
      "metadata": {
        "id": "8a744fdc"
      },
      "source": [
        "## 📊 Visualisation Functions"
      ]
    },
    {
      "cell_type": "code",
      "execution_count": 6,
      "id": "9dc3bf85",
      "metadata": {
        "id": "9dc3bf85"
      },
      "outputs": [],
      "source": [
        "import matplotlib.pyplot as plt\n",
        "import pandas as pd\n",
        "\n",
        "def create_temperature_visualisation(weather_data, date_range=None, output_type='display'):\n",
        "    \"\"\"\n",
        "    Create a visualisation of temperature data across a date range.\n",
        "\n",
        "    Args:\n",
        "        weather_data (dict): The processed weather data from get_weather_data()\n",
        "        date_range (tuple/list): Optional start and end date (\"YYYY-MM-DD\", \"YYYY-MM-DD\")\n",
        "        output_type (str): 'display' to show in notebook or 'figure' to return the matplotlib figure\n",
        "\n",
        "    Returns:\n",
        "        matplotlib.figure.Figure if output_type == 'figure', else None\n",
        "    \"\"\"\n",
        "    if not weather_data or \"forecast\" not in weather_data:\n",
        "        print(\"No forecast data available.\")\n",
        "        return None\n",
        "\n",
        "    forecast = weather_data[\"forecast\"]\n",
        "\n",
        "    # Convert forecast list to DataFrame for easy filtering\n",
        "    df = pd.DataFrame(forecast)\n",
        "\n",
        "    # Ensure temperatures are numeric\n",
        "    for col in [\"maxtempC\", \"mintempC\", \"avgtempC\"]:\n",
        "        df[col] = pd.to_numeric(df[col], errors=\"coerce\")\n",
        "\n",
        "    # Filter by date range if provided\n",
        "    if date_range:\n",
        "        start_date, end_date = pd.to_datetime(date_range[0]), pd.to_datetime(date_range[1])\n",
        "        df[\"date\"] = pd.to_datetime(df[\"date\"])\n",
        "        df = df[(df[\"date\"] >= start_date) & (df[\"date\"] <= end_date)]\n",
        "\n",
        "    if df.empty:\n",
        "        print(\"No data found for the given date range.\")\n",
        "        return None\n",
        "\n",
        "    # Create figure\n",
        "    fig, ax = plt.subplots(figsize=(10, 6))\n",
        "\n",
        "    ax.plot(df[\"date\"], df[\"maxtempC\"], marker=\"o\", label=\"Max Temp (°C)\", color=\"red\")\n",
        "    ax.plot(df[\"date\"], df[\"mintempC\"], marker=\"o\", label=\"Min Temp (°C)\", color=\"blue\")\n",
        "    ax.plot(df[\"date\"], df[\"avgtempC\"], marker=\"o\", label=\"Avg Temp (°C)\", color=\"green\")\n",
        "\n",
        "    ax.set_title(f\"Temperature Forecast for {weather_data['location']}\")\n",
        "    ax.set_xlabel(\"Date\")\n",
        "    ax.set_ylabel(\"Temperature (°C)\")\n",
        "    ax.legend()\n",
        "    ax.grid(True, linestyle=\"--\", alpha=0.6)\n",
        "\n",
        "    plt.xticks(rotation=45)\n",
        "\n",
        "    # Return or display\n",
        "    if output_type == 'figure':\n",
        "        return fig\n",
        "    else:\n",
        "        plt.show()\n",
        "        return None\n"
      ]
    },
    {
      "cell_type": "code",
      "source": [
        "import matplotlib.pyplot as plt\n",
        "import pandas as pd\n",
        "\n",
        "def create_precipitation_visualisation(weather_data, output_type='display'):\n",
        "    \"\"\"\n",
        "    Create a visualisation of precipitation data across forecast days.\n",
        "\n",
        "    Args:\n",
        "        weather_data (dict): The processed weather data from get_weather_data()\n",
        "        output_type (str): 'display' to show in notebook or 'figure' to return the matplotlib figure\n",
        "\n",
        "    Returns:\n",
        "        matplotlib.figure.Figure if output_type == 'figure', else None\n",
        "    \"\"\"\n",
        "    if not weather_data or \"forecast\" not in weather_data:\n",
        "        print(\"No forecast data available.\")\n",
        "        return None\n",
        "\n",
        "    forecast = weather_data[\"forecast\"]\n",
        "\n",
        "    # Build a daily summary DataFrame\n",
        "    rows = []\n",
        "    for day in forecast:\n",
        "        date = day.get(\"date\")\n",
        "        hourly = day.get(\"hourly\", [])\n",
        "\n",
        "        # Convert to DataFrame for easier aggregation\n",
        "        df_hourly = pd.DataFrame(hourly)\n",
        "\n",
        "        if not df_hourly.empty:\n",
        "            df_hourly[\"precipMM\"] = pd.to_numeric(df_hourly.get(\"precipMM\"), errors=\"coerce\")\n",
        "            df_hourly[\"chanceofrain\"] = pd.to_numeric(df_hourly.get(\"chanceofrain\"), errors=\"coerce\")\n",
        "\n",
        "            daily_precip = df_hourly[\"precipMM\"].sum()  # total rainfall for the day\n",
        "            avg_chance = df_hourly[\"chanceofrain\"].mean()  # average chance of rain\n",
        "        else:\n",
        "            daily_precip, avg_chance = 0, 0\n",
        "\n",
        "        rows.append({\"date\": date, \"precipMM\": daily_precip, \"chanceofrain\": avg_chance})\n",
        "\n",
        "    df = pd.DataFrame(rows)\n",
        "\n",
        "    if df.empty:\n",
        "        print(\"No precipitation data available.\")\n",
        "        return None\n",
        "\n",
        "    # Plot precipitation\n",
        "    fig, ax1 = plt.subplots(figsize=(10, 6))\n",
        "\n",
        "    # Bar chart for precipitation (mm)\n",
        "    ax1.bar(df[\"date\"], df[\"precipMM\"], color=\"blue\", alpha=0.6, label=\"Total Precipitation (mm)\")\n",
        "    ax1.set_xlabel(\"Date\")\n",
        "    ax1.set_ylabel(\"Precipitation (mm)\", color=\"blue\")\n",
        "    ax1.tick_params(axis=\"y\", labelcolor=\"blue\")\n",
        "\n",
        "    # Line chart for chance of rain (%) on secondary axis\n",
        "    ax2 = ax1.twinx()\n",
        "    ax2.plot(df[\"date\"], df[\"chanceofrain\"], marker=\"o\", color=\"green\", label=\"Chance of Rain (%)\")\n",
        "    ax2.set_ylabel(\"Chance of Rain (%)\", color=\"green\")\n",
        "    ax2.tick_params(axis=\"y\", labelcolor=\"green\")\n",
        "\n",
        "    # Titles and grid\n",
        "    plt.title(f\"Precipitation Forecast for {weather_data['location']}\")\n",
        "    fig.autofmt_xdate()\n",
        "    ax1.grid(True, linestyle=\"--\", alpha=0.6)\n",
        "\n",
        "    # Legends\n",
        "    ax1.legend(loc=\"upper left\")\n",
        "    ax2.legend(loc=\"upper right\")\n",
        "\n",
        "    # Return or display\n",
        "    if output_type == 'figure':\n",
        "        return fig\n",
        "    else:\n",
        "        plt.show()\n",
        "        return None\n"
      ],
      "metadata": {
        "id": "HpOlQylYG5Ho"
      },
      "id": "HpOlQylYG5Ho",
      "execution_count": 7,
      "outputs": []
    },
    {
      "cell_type": "markdown",
      "id": "9f95d160",
      "metadata": {
        "id": "9f95d160"
      },
      "source": [
        "## 🤖 Natural Language Processing"
      ]
    },
    {
      "cell_type": "code",
      "execution_count": 18,
      "id": "bcc5833e",
      "metadata": {
        "id": "bcc5833e",
        "colab": {
          "base_uri": "https://localhost:8080/"
        },
        "outputId": "50bb1239-1bdf-4e0a-d49d-ad13aec71fd5"
      },
      "outputs": [
        {
          "output_type": "stream",
          "name": "stdout",
          "text": [
            "{'question_type': 'unknown', 'attribute': 'temperature', 'days_ahead': 1, 'location': 'Perth ?'}\n"
          ]
        }
      ],
      "source": [
        "import re\n",
        "import datetime\n",
        "\n",
        "def parse_weather_question(question):\n",
        "    question = question.lower().strip()\n",
        "\n",
        "    # Detect question type\n",
        "    if re.search(r\"\\bweather\\b\", question):\n",
        "        question_type = \"weather\"\n",
        "    else:\n",
        "        question_type = \"unknown\"\n",
        "\n",
        "    # Detect attribute\n",
        "    if \"rain\" in question or \"precipitation\" in question:\n",
        "        attribute = \"precipitation\"\n",
        "    elif \"temperature\" in question or \"hot\" in question or \"cold\" in question:\n",
        "        attribute = \"temperature\"\n",
        "    else:\n",
        "        attribute = \"general\"\n",
        "\n",
        "    # Detect time → map to days_ahead\n",
        "    if \"today\" in question:\n",
        "        days_ahead = 0\n",
        "    elif \"tomorrow\" in question:\n",
        "        days_ahead = 1\n",
        "    elif \"day after tomorrow\" in question:\n",
        "        days_ahead = 2\n",
        "    else:\n",
        "        days_ahead = 0  # fallback\n",
        "\n",
        "    # Extract location (remove keywords)\n",
        "    location = (question.replace(\"what\", \"\")\n",
        "                        .replace(\"is\", \"\")\n",
        "                        .replace(\"the\", \"\")\n",
        "                        .replace(\"weather\", \"\")\n",
        "                        .replace(\"of\", \"\")\n",
        "                        .replace(\"today\", \"\")\n",
        "                        .replace(\"tomorrow\", \"\")\n",
        "                        .replace(\"day after tomorrow\", \"\")\n",
        "                        .replace(\"rain\", \"\")\n",
        "                        .replace(\"precipitation\", \"\")\n",
        "                        .replace(\"temperature\", \"\")\n",
        "                        .replace(\"in\", \"\")\n",
        "                        .strip().title())\n",
        "\n",
        "    return {\n",
        "        \"question_type\": question_type,\n",
        "        \"attribute\": attribute,\n",
        "        \"days_ahead\": days_ahead,\n",
        "        \"location\": location\n",
        "    }\n",
        "\n",
        "# Example\n",
        "# print(parse_weather_question(\"What is the temperature of Perth tomorrow?\"))\n"
      ]
    },
    {
      "cell_type": "markdown",
      "id": "0d85225e",
      "metadata": {
        "id": "0d85225e"
      },
      "source": [
        "## 🧭 User Interface"
      ]
    },
    {
      "cell_type": "code",
      "execution_count": null,
      "id": "fa6cb0f6",
      "metadata": {
        "id": "fa6cb0f6"
      },
      "outputs": [],
      "source": [
        "# Define menu functions using pyinputplus or ipywidgets here"
      ]
    },
    {
      "cell_type": "markdown",
      "id": "d643a53c",
      "metadata": {
        "id": "d643a53c"
      },
      "source": [
        "## 🧩 Main Application Logic"
      ]
    },
    {
      "cell_type": "code",
      "execution_count": 9,
      "id": "a9e2e805",
      "metadata": {
        "id": "a9e2e805"
      },
      "outputs": [],
      "source": [
        "def generate_weather_response(parsed_question, weather_data):\n",
        "    \"\"\"\n",
        "    Generate a natural language response to a weather question.\n",
        "\n",
        "    Args:\n",
        "        parsed_question (dict): Parsed question data\n",
        "        weather_data (dict): Weather data\n",
        "\n",
        "    Returns:\n",
        "        str: Natural language response\n",
        "    \"\"\"\n",
        "    location = parsed_question[\"location\"]\n",
        "    attribute = parsed_question[\"attribute\"]\n",
        "    days_ahead = parsed_question[\"days_ahead\"]\n",
        "\n",
        "    forecast = weather_data.get(\"forecast\", [])\n",
        "    if days_ahead >= len(forecast):\n",
        "        return f\"Sorry, I only have forecast data for {len(forecast)} days ahead.\"\n",
        "\n",
        "    if days_ahead == 0:\n",
        "        target_day = \"today\"\n",
        "    elif days_ahead == 1:\n",
        "        target_day = \"tomorrow\"\n",
        "    else:\n",
        "        target_day = f\"in {days_ahead} days\"\n",
        "\n",
        "    day_data = forecast[days_ahead]\n",
        "\n",
        "    if attribute == \"temperature\":\n",
        "        print(create_temperature_visualisation(weather_data))\n",
        "        return (f\"The forecasted temperature {target_day} in {location} is \"\n",
        "                f\"{day_data['mintempC']}°C - {day_data['maxtempC']}°C \"\n",
        "                f\"(average {day_data['avgtempC']}°C).\")\n",
        "\n",
        "    elif attribute == \"precipitation\":\n",
        "        print(create_precipitation_visualisation(weather_data))\n",
        "        total_precip = sum(float(h.get(\"precipMM\", 0)) for h in day_data[\"hourly\"])\n",
        "        return (f\"The total expected rainfall {target_day} in {location} \"\n",
        "                f\"is {total_precip:.1f} mm.\")\n",
        "    elif attribute == \"humidity\":\n",
        "        avg_humidity = sum(int(h.get(\"humidity\", 0)) for h in day_data[\"hourly\"]) / len(day_data[\"hourly\"])\n",
        "        return (f\"The average humidity {target_day} in {location} will be about {avg_humidity:.0f}%.\")\n",
        "    elif attribute == \"wind\":\n",
        "        avg_wind = sum(int(h.get(\"windspeedKmph\", 0)) for h in day_data[\"hourly\"]) / len(day_data[\"hourly\"])\n",
        "        return (f\"The average wind speed {target_day} in {location} will be about {avg_wind:.0f} km/h.\")\n",
        "    else:\n",
        "        return f\"Sorry, I couldn't understand the weather attribute in your question.\"\n",
        "\n",
        "    return {\n",
        "        \"location\": location,\n",
        "        \"days_ahead\": days_ahead,\n",
        "        \"attribute\": attribute\n",
        "    }\n"
      ]
    },
    {
      "cell_type": "markdown",
      "id": "fde44479",
      "metadata": {
        "id": "fde44479"
      },
      "source": [
        "## 🧪 Testing and Examples"
      ]
    },
    {
      "cell_type": "code",
      "execution_count": 19,
      "id": "4e573901",
      "metadata": {
        "id": "4e573901",
        "colab": {
          "base_uri": "https://localhost:8080/",
          "height": 746
        },
        "outputId": "c9a91e18-6685-4180-a32f-dbd1976efced"
      },
      "outputs": [
        {
          "output_type": "stream",
          "name": "stdout",
          "text": [
            "🌤️ Weather Assistant\n",
            "Ask me about the weather (e.g., ''):\n",
            "> what is the temperature of perth today\n",
            "{'question_type': 'unknown', 'attribute': 'temperature', 'days_ahead': 0, 'location': 'Perth'}\n"
          ]
        },
        {
          "output_type": "display_data",
          "data": {
            "text/plain": [
              "<Figure size 1000x600 with 1 Axes>"
            ],
            "image/png": "[encoded data removed]"
          },
          "metadata": {}
        },
        {
          "output_type": "stream",
          "name": "stdout",
          "text": [
            "None\n",
            "\n",
            "👉 The forecasted temperature today in Perth is 15°C - 20°C (average 17°C).\n"
          ]
        }
      ],
      "source": [
        "# Include sample input/output for each function\n",
        "def main():\n",
        "    print(\"🌤️ Weather Assistant\")\n",
        "    question = input(\"Ask me about the weather (e.g., ''):\\n> \")\n",
        "\n",
        "    parsed = parse_weather_question(question)\n",
        "    print(parsed)\n",
        "    weather_data = get_weather_data(parsed[\"location\"], forecast_days=3)  # max 3 with wttr.in\n",
        "    if not weather_data:\n",
        "        print(\"Could not fetch weather data.\")\n",
        "        return\n",
        "\n",
        "    response = generate_weather_response(parsed, weather_data)\n",
        "    print(\"\\n👉 \" + response)\n",
        "\n",
        "\n",
        "# Example run\n",
        "if __name__ == \"__main__\":\n",
        "    main()\n"
      ]
    },
    {
      "cell_type": "markdown",
      "id": "d2885880",
      "metadata": {
        "id": "d2885880"
      },
      "source": [
        "## 🗂️ AI Prompting Log (Optional)\n",
        "Add markdown cells here summarising prompts used or link to AI conversations in the `ai-conversations/` folder."
      ]
    }
  ],
  "metadata": {
    "language_info": {
      "name": "python"
    },
    "colab": {
      "provenance": [],
      "include_colab_link": true
    },
    "kernelspec": {
      "name": "python3",
      "display_name": "Python 3"
    }
  },
  "nbformat": 4,
  "nbformat_minor": 5
}